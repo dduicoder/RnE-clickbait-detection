{
 "cells": [
  {
   "cell_type": "code",
   "execution_count": 3,
   "metadata": {},
   "outputs": [
    {
     "name": "stdout",
     "output_type": "stream",
     "text": [
      "Fetching news from: https://n.news.naver.com/article/421/0007740567?sid=100\n",
      "Title: 민주 \"티메프 사태, 정부가 피해 축소·은폐…원스톱 지원해야\"\n",
      "Content: '성병' 진단 받은 아내 \"남편에게 배신감 들어 이혼 고려\"…알고 보니 오진?\n",
      "\n",
      "산부인과에서 '성병 오진'을 받아 남편과 이혼까지 생각했다는 결혼 20년 차 이상 아내의 사연이 전해졌다. 지난 19일 JTBC '사건반장'은 자궁경부암 검진을 받기 위해 지난달 말 서울 강서구 한 산부인과를 방문한\n"
     ]
    }
   ],
   "source": [
    "import requests\n",
    "from bs4 import BeautifulSoup\n",
    "from newspaper import Article\n",
    "import random\n",
    "\n",
    "article_url = \"https://n.news.naver.com/article/421/0007666385?sid=101\"\n",
    "article_url = \"https://n.news.naver.com/article/421/0007740567?sid=100\"\n",
    "\n",
    "print(f\"Fetching news from: {article_url}\")\n",
    "\n",
    "# Get the HTML content of the news site\n",
    "response = requests.get(article_url)\n",
    "if response.status_code != 200:\n",
    "    print(f\"Failed to retrieve content from {article_url}\")\n",
    "    exit()\n",
    "\n",
    "# Parse the HTML content using BeautifulSoup\n",
    "soup = BeautifulSoup(response.content, 'html.parser')\n",
    "\n",
    "# Function to extract article details\n",
    "def get_article_details(url):\n",
    "    try:\n",
    "        article = Article(url, language=\"ko\")\n",
    "        article.download()\n",
    "        article.parse()\n",
    "        return {\n",
    "            \"title\": article.title,\n",
    "            \"content\": article.text\n",
    "        }\n",
    "    except Exception as e:\n",
    "        print(f\"Error retrieving article from {url}: {e}\")\n",
    "        return None\n",
    "\n",
    "article_details = get_article_details(article_url)\n",
    "\n",
    "if article_details:\n",
    "    print(f\"Title: {article_details['title']}\")\n",
    "    print(f\"Content: {article_details['content']}\")  # Print first 500 characters\n",
    "else:\n",
    "    print(\"Failed to retrieve article details\")\n"
   ]
  },
  {
   "cell_type": "code",
   "execution_count": null,
   "metadata": {},
   "outputs": [],
   "source": []
  }
 ],
 "metadata": {
  "kernelspec": {
   "display_name": "clickbait",
   "language": "python",
   "name": "python3"
  },
  "language_info": {
   "codemirror_mode": {
    "name": "ipython",
    "version": 3
   },
   "file_extension": ".py",
   "mimetype": "text/x-python",
   "name": "python",
   "nbconvert_exporter": "python",
   "pygments_lexer": "ipython3",
   "version": "3.12.2"
  }
 },
 "nbformat": 4,
 "nbformat_minor": 2
}
